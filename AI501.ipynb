{
  "nbformat": 4,
  "nbformat_minor": 0,
  "metadata": {
    "colab": {
      "provenance": [],
      "gpuType": "T4",
      "mount_file_id": "1LeIR3TSfUUpplf7FIVjV24q0cSNryqJI",
      "authorship_tag": "ABX9TyOVL5UmzDFBWnEEP9ueobHB",
      "include_colab_link": true
    },
    "kernelspec": {
      "name": "python3",
      "display_name": "Python 3"
    },
    "language_info": {
      "name": "python"
    },
    "accelerator": "GPU"
  },
  "cells": [
    {
      "cell_type": "markdown",
      "metadata": {
        "id": "view-in-github",
        "colab_type": "text"
      },
      "source": [
        "<a href=\"https://colab.research.google.com/github/sunwookim1214/ImageCaptioning.pytorch/blob/master/AI501.ipynb\" target=\"_parent\"><img src=\"https://colab.research.google.com/assets/colab-badge.svg\" alt=\"Open In Colab\"/></a>"
      ]
    },
    {
      "cell_type": "code",
      "source": [
        "!pip install transformers tokenizers -q"
      ],
      "metadata": {
        "colab": {
          "base_uri": "https://localhost:8080/"
        },
        "id": "nvngcGnKySdx",
        "outputId": "c51cf981-03d6-4836-f166-e0e345d5e164"
      },
      "execution_count": 1,
      "outputs": [
        {
          "output_type": "stream",
          "name": "stdout",
          "text": [
            "\u001b[2K     \u001b[90m━━━━━━━━━━━━━━━━━━━━━━━━━━━━━━━━━━━━━━━━\u001b[0m \u001b[32m7.2/7.2 MB\u001b[0m \u001b[31m72.8 MB/s\u001b[0m eta \u001b[36m0:00:00\u001b[0m\n",
            "\u001b[2K     \u001b[90m━━━━━━━━━━━━━━━━━━━━━━━━━━━━━━━━━━━━━━━━\u001b[0m \u001b[32m7.8/7.8 MB\u001b[0m \u001b[31m67.2 MB/s\u001b[0m eta \u001b[36m0:00:00\u001b[0m\n",
            "\u001b[2K     \u001b[90m━━━━━━━━━━━━━━━━━━━━━━━━━━━━━━━━━━━━━━\u001b[0m \u001b[32m268.5/268.5 kB\u001b[0m \u001b[31m27.9 MB/s\u001b[0m eta \u001b[36m0:00:00\u001b[0m\n",
            "\u001b[2K     \u001b[90m━━━━━━━━━━━━━━━━━━━━━━━━━━━━━━━━━━━━━━━━\u001b[0m \u001b[32m1.3/1.3 MB\u001b[0m \u001b[31m75.0 MB/s\u001b[0m eta \u001b[36m0:00:00\u001b[0m\n",
            "\u001b[?25h"
          ]
        }
      ]
    },
    {
      "cell_type": "code",
      "source": [
        "!ls"
      ],
      "metadata": {
        "colab": {
          "base_uri": "https://localhost:8080/"
        },
        "id": "a4F60FGp1AAg",
        "outputId": "bca65182-0fcc-49c2-e791-009ccc3acb46"
      },
      "execution_count": 3,
      "outputs": [
        {
          "output_type": "stream",
          "name": "stdout",
          "text": [
            "all-data.csv  dataloader.py  drive  modeling.py  sample_data  trainer.py\n"
          ]
        }
      ]
    },
    {
      "cell_type": "code",
      "source": [
        "from google.colab import drive\n",
        "drive.mount('/content/drive')"
      ],
      "metadata": {
        "colab": {
          "base_uri": "https://localhost:8080/"
        },
        "id": "Hxpff90vyipE",
        "outputId": "79034644-cebd-4a93-9a36-8bfb0bab0e3e"
      },
      "execution_count": 4,
      "outputs": [
        {
          "output_type": "stream",
          "name": "stdout",
          "text": [
            "Drive already mounted at /content/drive; to attempt to forcibly remount, call drive.mount(\"/content/drive\", force_remount=True).\n"
          ]
        }
      ]
    },
    {
      "cell_type": "code",
      "source": [
        "!nvidia-smi"
      ],
      "metadata": {
        "colab": {
          "base_uri": "https://localhost:8080/"
        },
        "id": "ly7_-2I30mhY",
        "outputId": "d3894a7c-b5eb-41c8-eb4f-05d6cb38b123"
      },
      "execution_count": 5,
      "outputs": [
        {
          "output_type": "stream",
          "name": "stdout",
          "text": [
            "Fri Jul  7 05:30:33 2023       \n",
            "+-----------------------------------------------------------------------------+\n",
            "| NVIDIA-SMI 525.85.12    Driver Version: 525.85.12    CUDA Version: 12.0     |\n",
            "|-------------------------------+----------------------+----------------------+\n",
            "| GPU  Name        Persistence-M| Bus-Id        Disp.A | Volatile Uncorr. ECC |\n",
            "| Fan  Temp  Perf  Pwr:Usage/Cap|         Memory-Usage | GPU-Util  Compute M. |\n",
            "|                               |                      |               MIG M. |\n",
            "|===============================+======================+======================|\n",
            "|   0  Tesla T4            Off  | 00000000:00:04.0 Off |                    0 |\n",
            "| N/A   47C    P8    10W /  70W |      0MiB / 15360MiB |      0%      Default |\n",
            "|                               |                      |                  N/A |\n",
            "+-------------------------------+----------------------+----------------------+\n",
            "                                                                               \n",
            "+-----------------------------------------------------------------------------+\n",
            "| Processes:                                                                  |\n",
            "|  GPU   GI   CI        PID   Type   Process name                  GPU Memory |\n",
            "|        ID   ID                                                   Usage      |\n",
            "|=============================================================================|\n",
            "|  No running processes found                                                 |\n",
            "+-----------------------------------------------------------------------------+\n"
          ]
        }
      ]
    },
    {
      "cell_type": "code",
      "source": [
        "from modeling import *\n",
        "from trainer import *\n",
        "from dataloader import *"
      ],
      "metadata": {
        "id": "R5Del2bwFKa2"
      },
      "execution_count": 13,
      "outputs": []
    },
    {
      "cell_type": "code",
      "source": [
        "from transformers import BertTokenizer, BertModel, get_linear_schedule_with_warmup\n",
        "\n",
        "import torch\n",
        "from torch.utils.data import Dataset, DataLoader\n",
        "import torch.nn.functional as F\n",
        "from torch import nn, optim\n",
        "\n",
        "import numpy as np\n",
        "import pandas as pd\n",
        "\n",
        "\n",
        "from sklearn.model_selection import train_test_split\n",
        "from sklearn.metrics import confusion_matrix, classification_report\n",
        "\n",
        "from collections import defaultdict\n",
        "from textwrap import wrap\n",
        "\n",
        "from transformers import DataCollatorWithPadding\n",
        "\n",
        "RANDOM_SEED = 42\n",
        "np.random.seed(RANDOM_SEED)\n",
        "torch.manual_seed(RANDOM_SEED)\n",
        "device = torch.device(\"cuda:0\" if torch.cuda.is_available() else \"cpu\")\n",
        "\n",
        "MAX_LEN = 512\n",
        "BATCH_SIZE = 16\n",
        "\n",
        "pre_trained_model_ckpt = 'bert-base-uncased'\n",
        "\n",
        "class ReviewDataset(Dataset):\n",
        "    def __init__(self, reviews, targets, tokenizer, max_len, include_raw_text=False):\n",
        "        self.reviews = reviews\n",
        "        self.targets = targets\n",
        "        self.tokenizer = tokenizer\n",
        "        self.max_len = max_len\n",
        "        self.include_raw_text = include_raw_text\n",
        "\n",
        "    def __len__(self):\n",
        "        return len(self.reviews)\n",
        "\n",
        "    def __getitem__(self, item):\n",
        "        review = str(self.reviews[item])\n",
        "        target = self.targets[item]\n",
        "        encoding = self.tokenizer.encode_plus(\n",
        "            review,\n",
        "            add_special_tokens = True,\n",
        "            max_length = self.max_len,\n",
        "            return_token_type_ids = False,\n",
        "            return_attention_mask = True,\n",
        "            truncation = True,\n",
        "            pad_to_max_length = True,\n",
        "            return_tensors = 'pt',)\n",
        "\n",
        "        output = {\n",
        "            'input_ids': encoding['input_ids'].flatten(),\n",
        "            'attention_mask': encoding['attention_mask'].flatten(),\n",
        "            'targets': torch.tensor(target, dtype=torch.long)\n",
        "        }\n",
        "        if self.include_raw_text:\n",
        "            output['review_text'] = item\n",
        "        return output\n",
        "\n",
        "\n",
        "pre_trained_model_ckpt = 'bert-base-uncased'\n",
        "tokenizer = BertTokenizer.from_pretrained(pre_trained_model_ckpt)\n",
        "\n",
        "collator = DataCollatorWithPadding(tokenizer=tokenizer, padding = 'longest' )\n",
        "\n",
        "def create_data_loader(df, tokenizer, max_len = MAX_LEN, batch_size = BATCH_SIZE, include_raw_text = False):\n",
        "    ds = ReviewDataset(\n",
        "        reviews = df[1].to_list(),\n",
        "        targets = df[0].to_list(),\n",
        "        tokenizer=tokenizer,\n",
        "        max_len=max_len,\n",
        "        include_raw_text=include_raw_text\n",
        "    )\n",
        "    return DataLoader(ds, batch_size=batch_size, collate_fn=collator )\n"
      ],
      "metadata": {
        "id": "n7Yvo4FPHDGa"
      },
      "execution_count": 22,
      "outputs": []
    },
    {
      "cell_type": "code",
      "source": [
        "from transformers import BertTokenizer, BertModel, get_linear_schedule_with_warmup\n",
        "\n",
        "import torch\n",
        "from torch.utils.data import Dataset, DataLoader\n",
        "import torch.nn.functional as F\n",
        "from torch import nn, optim\n",
        "\n",
        "import numpy as np\n",
        "import pandas as pd\n",
        "\n",
        "\n",
        "from sklearn.model_selection import train_test_split\n",
        "from sklearn.metrics import confusion_matrix, classification_report\n",
        "\n",
        "from collections import defaultdict\n",
        "from textwrap import wrap\n",
        "\n",
        "RANDOM_SEED = 42\n",
        "np.random.seed(RANDOM_SEED)\n",
        "torch.manual_seed(RANDOM_SEED)\n",
        "device = torch.device(\"cuda:0\" if torch.cuda.is_available() else \"cpu\")\n",
        "\n",
        "\n",
        "pre_trained_model_ckpt = 'yiyanghkust/finbert-tone'\n",
        "\n",
        "class SentimentClassifier(nn.Module):\n",
        "    \"\"\"\n",
        "    Sentiment classification model based on BERT.\n",
        "\n",
        "    Args:\n",
        "        n_classes (int): Number of classes for sentiment classification.\n",
        "\n",
        "    \"\"\"\n",
        "    def __init__(self, n_classes):\n",
        "        super(SentimentClassifier, self).__init__()\n",
        "        self.bert = BertModel.from_pretrained(pre_trained_model_ckpt,return_dict=False)\n",
        "        self.drop = nn.Dropout(p = 0.3)\n",
        "        self.out = nn.Linear(self.bert.config.hidden_size, n_classes)\n",
        "\n",
        "    def forward(self, input_ids, attention_mask):\n",
        "        \"\"\"\n",
        "        Forward pass of the sentiment classifier model.\n",
        "\n",
        "        Args:\n",
        "            input_ids (torch.Tensor): Input tensor of shape (batch_size, sequence_length).\n",
        "            attention_mask (torch.Tensor): Attention mask tensor of shape (batch_size, sequence_length).\n",
        "\n",
        "        Returns:\n",
        "            torch.Tensor: Output tensor of shape (batch_size, n_classes).\n",
        "\n",
        "        \"\"\"\n",
        "        _, pooled_output = self.bert(\n",
        "            input_ids = input_ids,\n",
        "            attention_mask= attention_mask\n",
        "        )\n",
        "        output = self.drop(pooled_output)\n",
        "        return self.out(output)"
      ],
      "metadata": {
        "id": "2PN377A3HGtx"
      },
      "execution_count": 23,
      "outputs": []
    },
    {
      "cell_type": "code",
      "execution_count": 24,
      "metadata": {
        "colab": {
          "base_uri": "https://localhost:8080/"
        },
        "id": "fUPtqsWcfjQg",
        "outputId": "02534f00-47d0-4005-e9a5-1ea853fd3b80"
      },
      "outputs": [
        {
          "output_type": "stream",
          "name": "stderr",
          "text": [
            "/usr/local/lib/python3.10/dist-packages/transformers/tokenization_utils_base.py:2377: FutureWarning: The `pad_to_max_length` argument is deprecated and will be removed in a future version, use `padding=True` or `padding='longest'` to pad to the longest sequence in the batch, or use `padding='max_length'` to pad to a max length. In this case, you can give a specific length with `max_length` (e.g. `max_length=45`) or leave max_length to None to pad to the maximal input size of the model (e.g. 512 for Bert).\n",
            "  warnings.warn(\n"
          ]
        },
        {
          "output_type": "stream",
          "name": "stdout",
          "text": [
            "dict_keys(['input_ids', 'attention_mask', 'targets'])\n",
            "torch.Size([16, 512])\n",
            "torch.Size([16, 512])\n",
            "torch.Size([16])\n"
          ]
        },
        {
          "output_type": "stream",
          "name": "stderr",
          "text": [
            "Some weights of the model checkpoint at bert-base-uncased were not used when initializing BertModel: ['cls.predictions.transform.LayerNorm.bias', 'cls.predictions.bias', 'cls.seq_relationship.weight', 'cls.seq_relationship.bias', 'cls.predictions.transform.dense.weight', 'cls.predictions.transform.LayerNorm.weight', 'cls.predictions.transform.dense.bias']\n",
            "- This IS expected if you are initializing BertModel from the checkpoint of a model trained on another task or with another architecture (e.g. initializing a BertForSequenceClassification model from a BertForPreTraining model).\n",
            "- This IS NOT expected if you are initializing BertModel from the checkpoint of a model that you expect to be exactly identical (initializing a BertForSequenceClassification model from a BertForSequenceClassification model).\n"
          ]
        },
        {
          "output_type": "stream",
          "name": "stdout",
          "text": [
            "Epoch 1/ 10\n",
            "---------------\n",
            "Train loss 0.7398194643264672 accuracy 0.6780660152435303\n",
            "Val loss 0.44722694741642993 accuracy 0.8253095149993896\n",
            "Epoch 2/ 10\n",
            "---------------\n",
            "Train loss 0.3705292547227077 accuracy 0.8579009175300598\n",
            "Val loss 0.38313208811956906 accuracy 0.8445667028427124\n",
            "Epoch 3/ 10\n",
            "---------------\n",
            "Train loss 0.2322943766671672 accuracy 0.9183372855186462\n",
            "Val loss 0.4428802986588815 accuracy 0.8500687479972839\n",
            "Epoch 4/ 10\n",
            "---------------\n",
            "Train loss 0.1516732040283112 accuracy 0.9522405862808228\n",
            "Val loss 0.517084682866445 accuracy 0.8514443039894104\n",
            "Epoch 5/ 10\n",
            "---------------\n",
            "Train loss 0.11473194493819906 accuracy 0.9643278121948242\n",
            "Val loss 0.5693354088934544 accuracy 0.8569463491439819\n",
            "Epoch 6/ 10\n",
            "---------------\n",
            "Train loss 0.07703345736987309 accuracy 0.9752358198165894\n",
            "Val loss 0.6268784146877411 accuracy 0.8596974015235901\n",
            "Epoch 7/ 10\n",
            "---------------\n",
            "Train loss 0.05065460459116126 accuracy 0.9867334961891174\n",
            "Val loss 0.7054409280712919 accuracy 0.8541952967643738\n",
            "Epoch 8/ 10\n",
            "---------------\n",
            "Train loss 0.043629097321206914 accuracy 0.9879127144813538\n",
            "Val loss 0.7159157809219323 accuracy 0.8541952967643738\n",
            "Epoch 9/ 10\n",
            "---------------\n",
            "Train loss 0.037886549763432004 accuracy 0.9905660152435303\n",
            "Val loss 0.7264763329117356 accuracy 0.8569463491439819\n",
            "Epoch 10/ 10\n",
            "---------------\n",
            "Train loss 0.026694026686699252 accuracy 0.9935141801834106\n",
            "Val loss 0.6954695347306804 accuracy 0.8596974015235901\n"
          ]
        }
      ],
      "source": [
        "# -*- coding: utf-8 -*-\n",
        "\n",
        "from modeling import *\n",
        "from trainer import *\n",
        "from dataloader import *\n",
        "\n",
        "import sys\n",
        "\n",
        "from transformers import BertTokenizer, BertModel, get_linear_schedule_with_warmup\n",
        "\n",
        "import torch\n",
        "from torch.utils.data import Dataset, DataLoader\n",
        "import torch.nn.functional as F\n",
        "from torch import nn, optim\n",
        "\n",
        "import numpy as np\n",
        "import pandas as pd\n",
        "import seaborn as sns\n",
        "from pylab import rcParams\n",
        "\n",
        "import matplotlib.pyplot as plt\n",
        "from matplotlib import rc\n",
        "\n",
        "from sklearn.model_selection import train_test_split\n",
        "from sklearn.metrics import confusion_matrix, classification_report\n",
        "\n",
        "from collections import defaultdict\n",
        "from textwrap import wrap\n",
        "\n",
        "# %matplotlib inline\n",
        "# %config InlineBackend.figure_format='retina'\n",
        "\n",
        "sns.set(style='whitegrid', palette='muted', font_scale=1.2)\n",
        "sns.set_palette(sns.color_palette(\"Paired\"))\n",
        "\n",
        "rcParams['figure.figsize'] = 12,8\n",
        "RANDOM_SEED = 15\n",
        "np.random.seed(RANDOM_SEED)\n",
        "torch.manual_seed(RANDOM_SEED)\n",
        "device = torch.device(\"cuda:0\" if torch.cuda.is_available() else \"cpu\")\n",
        "\n",
        "\n",
        "\"\"\"# Read Dataset\"\"\"\n",
        "\n",
        "csv_file_path = 'all-data.csv'\n",
        "\n",
        "df = pd.read_csv(csv_file_path, header=None, encoding = \"ISO-8859-1\")\n",
        "\n",
        "# Make the customer stars starting from 0\n",
        "\n",
        "tokenizer = BertTokenizer.from_pretrained(pre_trained_model_ckpt)\n",
        "\n",
        "df_train, df_test = train_test_split(df, test_size = 0.3, random_state = RANDOM_SEED)\n",
        "\n",
        "df_val, df_test = train_test_split(df_test, test_size = 0.5, random_state = RANDOM_SEED)\n",
        "\n",
        "train_data_loader = create_data_loader(df_train, tokenizer)\n",
        "val_data_loader = create_data_loader(df_val, tokenizer, include_raw_text=False)\n",
        "test_data_loader = create_data_loader(df_test, tokenizer, include_raw_text=False)\n",
        "\n",
        "#for d in val_data_loader:\n",
        "    #print(d.keys())\n",
        "\n",
        "\n",
        "\n",
        "# dict_keys(['input_ids', 'attention_mask', 'targets', 'review_text'])\n",
        "\n",
        "#Testing to see if the data loader works appropriately\n",
        "data = next(iter(train_data_loader))\n",
        "print(data.keys())\n",
        "print(data['input_ids'].shape)\n",
        "print(data['attention_mask'].shape)\n",
        "print(data['targets'].shape)\n",
        "\n",
        "\"\"\"# Model Utility Class\"\"\"\n",
        "\n",
        "model = SentimentClassifier(3)\n",
        "model = model.to(device)\n",
        "\n",
        "# An evaluation run of the model\n",
        "input_ids = data['input_ids'].to(device)\n",
        "attention_mask = data['attention_mask'].to(device)\n",
        "F.softmax(model(input_ids,attention_mask), dim = 1)\n",
        "\n",
        "\n",
        "\"\"\"# Training\n",
        "\n",
        "## Training Loop Utility Functions\n",
        "\"\"\"\n",
        "\n",
        "#df.head()\n",
        "\n",
        "EPOCHS = 10\n",
        "\n",
        "optimizer = optim.AdamW(model.parameters(), lr= 1e-5)\n",
        "\n",
        "total_steps = len(train_data_loader) * EPOCHS\n",
        "\n",
        "scheduler = get_linear_schedule_with_warmup(\n",
        "    optimizer,\n",
        "    num_warmup_steps = 0,\n",
        "    num_training_steps=total_steps)\n",
        "\n",
        "# For multi-class classification you would usually just use nn.CrossEntropyLoss\n",
        "loss_fn = nn.CrossEntropyLoss().to(device)\n",
        "\n",
        "\"\"\"## Training Loop\"\"\"\n",
        "\n",
        "# Commented out IPython magic to ensure Python compatibility.\n",
        "history = defaultdict(list)\n",
        "best_accuracy = 0\n",
        "\n",
        "for epoch in range(EPOCHS):\n",
        "    print(f'Epoch {epoch + 1}/ {EPOCHS}')\n",
        "    print('-'*15)\n",
        "    train_acc, train_loss = train_model(model, train_data_loader, loss_fn, optimizer, device, scheduler, len(df_train))\n",
        "    print(f'Train loss {train_loss} accuracy {train_acc}')\n",
        "\n",
        "    val_acc, val_loss = eval_model(model, val_data_loader, loss_fn, device, len(df_val))\n",
        "    print(f'Val loss {val_loss} accuracy {val_acc}')\n",
        "\n",
        "    history['train_acc'].append(train_acc)\n",
        "    history['train_loss'].append(train_loss)\n",
        "    history['val_acc'].append(val_acc)\n",
        "    history['val_loss'].append(val_loss)\n",
        "\n",
        "    if val_acc>best_accuracy:\n",
        "        torch.save(model.state_dict(), 'best_model_state.bin')\n",
        "        best_accuracy = val_acc"
      ]
    },
    {
      "cell_type": "code",
      "source": [
        "from transformers import BertTokenizer, BertModel, get_linear_schedule_with_warmup\n",
        "\n",
        "import torch\n",
        "from torch.utils.data import Dataset, DataLoader\n",
        "import torch.nn.functional as F\n",
        "from torch import nn, optim\n",
        "\n",
        "import numpy as np\n",
        "import pandas as pd\n",
        "\n",
        "\n",
        "from sklearn.model_selection import train_test_split\n",
        "from sklearn.metrics import confusion_matrix, classification_report\n",
        "\n",
        "from collections import defaultdict\n",
        "from textwrap import wrap\n",
        "\n",
        "RANDOM_SEED = 42\n",
        "np.random.seed(RANDOM_SEED)\n",
        "torch.manual_seed(RANDOM_SEED)\n",
        "device = torch.device(\"cuda:0\" if torch.cuda.is_available() else \"cpu\")\n",
        "\n",
        "\n",
        "def train_model(model, data_loader, loss_fn, optimizer, device, scheduler, n_examples):\n",
        "    \"\"\"\n",
        "    Trains the given model using the provided data loader and optimizer.\n",
        "\n",
        "    Args:\n",
        "        model (torch.nn.Module): Model to train.\n",
        "        data_loader (DataLoader): DataLoader providing the training data.\n",
        "        loss_fn: Loss function to optimize.\n",
        "        optimizer: Optimizer for updating the model's parameters.\n",
        "        device: Device to use for training.\n",
        "        scheduler: Learning rate scheduler.\n",
        "        n_examples (int): Total number of training examples.\n",
        "\n",
        "    Returns:\n",
        "        float: Accuracy of the model on the training data.\n",
        "        float: Average training loss.\n",
        "\n",
        "    \"\"\"\n",
        "    model=model.train()\n",
        "    losses = []\n",
        "    correct_predictions = 0\n",
        "\n",
        "    \"\"\"  iterate over the batches provided by the data loader. Within each iteration, the batch tensors are moved to the appropriate device. The model performs a forward pass on the input tensors, and the predicted labels are obtained by taking the maximum value along the appropriate dimension. \"\"\"\n",
        "    for d in data_loader:\n",
        "        input_ids = d[\"input_ids\"].to(device)\n",
        "        attention_mask = d[\"attention_mask\"].to(device)\n",
        "        targets = d[\"targets\"].to(device)\n",
        "\n",
        "        outputs = model(input_ids=input_ids, attention_mask=attention_mask)\n",
        "        _, preds = torch.max(outputs, dim = 1)\n",
        "        loss = loss_fn(outputs, targets)\n",
        "\n",
        "        correct_predictions += torch.sum(preds == targets).cpu()\n",
        "\n",
        "        losses.append(loss.item())\n",
        "\n",
        "        loss.backward()\n",
        "        nn.utils.clip_grad_norm_(model.parameters(), max_norm=1.0)\n",
        "        optimizer.step()\n",
        "        scheduler.step()\n",
        "        optimizer.zero_grad()\n",
        "\n",
        "    return correct_predictions/n_examples, np.mean(losses)\n",
        "''' clip_grad_norm - We tackle the problem of exploding and vanishing gradients By gradient clipping '''\n",
        "\n",
        "\n",
        "def eval_model(model, data_loader, loss_fn, device, n_examples):\n",
        "    model = model.eval()\n",
        "    losses = []\n",
        "    correct_predictions = 0\n",
        "\n",
        "    with torch.no_grad():\n",
        "        for d in data_loader:\n",
        "            input_ids = d[\"input_ids\"].to(device)\n",
        "            attention_mask = d[\"attention_mask\"].to(device)\n",
        "            targets = d[\"targets\"].to(device)\n",
        "\n",
        "            outputs = model(input_ids=input_ids, attention_mask=attention_mask)\n",
        "\n",
        "            _,preds = torch.max(outputs, dim = 1)\n",
        "\n",
        "            loss = loss_fn(outputs, targets.detach())\n",
        "            correct_predictions += torch.sum(preds == targets).cpu()\n",
        "            losses.append(loss.item())\n",
        "    return correct_predictions/n_examples, np.mean(losses)\n",
        "\n",
        "# Model Evaluation on test_data_loader\n",
        "def get_predictions(model, data_loader):\n",
        "    model = model.eval()\n",
        "    review_texts = []\n",
        "    predictions = []\n",
        "    prediction_probs = []\n",
        "    real_values = []\n",
        "\n",
        "    with torch.no_grad():\n",
        "        for d in data_loader:\n",
        "            #texts = d[\"review_text\"]\n",
        "            input_ids = d[\"input_ids\"].to(device)\n",
        "            attention_mask = d[\"attention_mask\"].to(device)\n",
        "            targets = d[\"targets\"].to(device)\n",
        "            outputs = model(input_ids = input_ids, attention_mask = attention_mask)\n",
        "            _, preds = torch.max(outputs, dim=1)\n",
        "            probs = F.softmax(outputs, dim =1)\n",
        "            #review_texts.extend(texts)\n",
        "            predictions.extend(preds)\n",
        "            prediction_probs.extend(probs)\n",
        "            real_values.extend(targets)\n",
        "\n",
        "    predictions = torch.stack(predictions).cpu()\n",
        "    prediction_probs = torch.stack(prediction_probs).cpu()\n",
        "    real_values = torch.stack(real_values).cpu()\n",
        "    return predictions, prediction_probs, real_values"
      ],
      "metadata": {
        "id": "3rmM84oPF8u_"
      },
      "execution_count": 25,
      "outputs": []
    },
    {
      "cell_type": "code",
      "source": [
        "class_names = ['neutral', 'positive', 'negative']\n",
        "def show_confusion_matrix(confusion_matrix):\n",
        "    hmap = sns.heatmap(confusion_matrix, annot=True, fmt=\"d\", cmap=\"Blues\")\n",
        "    hmap.yaxis.set_ticklabels(hmap.yaxis.get_ticklabels(), rotation = 0, ha='right')\n",
        "    hmap.xaxis.set_ticklabels(hmap.xaxis.get_ticklabels(), rotation = 30, ha='right')\n",
        "    plt.ylabel('True Sentiment')\n",
        "    plt.xlabel('Predicted Sentiment')\n",
        "\n",
        "y_pred, y_pred_probs, y_test = get_predictions(model, test_data_loader)\n",
        "print(classification_report(y_test, y_pred, target_names=class_names))\n",
        "\n",
        "cm = confusion_matrix(y_test, y_pred)\n",
        "df_cm = pd.DataFrame(cm, index=class_names, columns = class_names)\n",
        "show_confusion_matrix(df_cm)"
      ],
      "metadata": {
        "colab": {
          "base_uri": "https://localhost:8080/",
          "height": 782
        },
        "id": "VRd00uAGCqBV",
        "outputId": "a787ca88-6559-48e5-89cd-9c8671fdceb5"
      },
      "execution_count": 26,
      "outputs": [
        {
          "output_type": "stream",
          "name": "stdout",
          "text": [
            "              precision    recall  f1-score   support\n",
            "\n",
            "     neutral       0.89      0.90      0.90       423\n",
            "    positive       0.84      0.80      0.82       213\n",
            "    negative       0.84      0.88      0.86        91\n",
            "\n",
            "    accuracy                           0.87       727\n",
            "   macro avg       0.86      0.86      0.86       727\n",
            "weighted avg       0.87      0.87      0.87       727\n",
            "\n"
          ]
        },
        {
          "output_type": "display_data",
          "data": {
            "text/plain": [
              "<Figure size 1200x800 with 2 Axes>"
            ],
            "image/png": "[encoded data removed]"
          },
          "metadata": {}
        }
      ]
    },
    {
      "cell_type": "code",
      "source": [
        "review_text = \"singapore stock benchmark heads for lowest close in eight months\"\n",
        "encoded_review = tokenizer.encode_plus(review_text, max_length=MAX_LEN, add_special_tokens=True, return_token_type_ids=False, pad_to_max_length=True, return_attention_mask=True,\n",
        "                                       truncation=True, return_tensors='pt')\n",
        "input_ids = encoded_review['input_ids'].to(device)\n",
        "attention_mask=encoded_review['attention_mask'].to(device)\n",
        "output = model(input_ids, attention_mask)\n",
        "_,prediction = torch.max(output, dim=1)\n",
        "\n",
        "print(f'Review text: {review_text}')\n",
        "print(f'Sentiment  : {class_names[prediction]}')"
      ],
      "metadata": {
        "colab": {
          "base_uri": "https://localhost:8080/"
        },
        "id": "NbDXL__GGe01",
        "outputId": "61a1bb1e-620f-43b9-d8de-1a32be71c48a"
      },
      "execution_count": 32,
      "outputs": [
        {
          "output_type": "stream",
          "name": "stdout",
          "text": [
            "Review text: singapore stock benchmark heads for lowest close in eight months\n",
            "Sentiment  : negative\n"
          ]
        }
      ]
    },
    {
      "cell_type": "code",
      "source": [
        "review_text = \"Markets wrap with prospectors bullish\"\n",
        "encoded_review = tokenizer.encode_plus(review_text, max_length=MAX_LEN, add_special_tokens=True, return_token_type_ids=False, pad_to_max_length=True, return_attention_mask=True,\n",
        "                                       truncation=True, return_tensors='pt')\n",
        "input_ids = encoded_review['input_ids'].to(device)\n",
        "attention_mask=encoded_review['attention_mask'].to(device)\n",
        "output = model(input_ids, attention_mask)\n",
        "_,prediction = torch.max(output, dim=1)\n",
        "\n",
        "print(f'Review text: {review_text}')\n",
        "print(f'Sentiment  : {class_names[prediction]}')"
      ],
      "metadata": {
        "colab": {
          "base_uri": "https://localhost:8080/"
        },
        "id": "dqTmqgY3GnWX",
        "outputId": "e4f58c37-d882-43c6-bbc2-8c8eb5a7acd4"
      },
      "execution_count": 28,
      "outputs": [
        {
          "output_type": "stream",
          "name": "stdout",
          "text": [
            "Review text: Markets wrap with prospectors bullish\n",
            "Sentiment  : neutral\n"
          ]
        }
      ]
    }
  ]
}